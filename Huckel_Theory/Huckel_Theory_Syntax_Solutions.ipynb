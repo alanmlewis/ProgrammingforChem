{
  "nbformat": 4,
  "nbformat_minor": 0,
  "metadata": {
    "colab": {
      "provenance": [],
      "authorship_tag": "ABX9TyMt7ZotOOHWvfPfr0doDY9N",
      "include_colab_link": true
    },
    "kernelspec": {
      "name": "python3",
      "display_name": "Python 3"
    },
    "language_info": {
      "name": "python"
    }
  },
  "cells": [
    {
      "cell_type": "markdown",
      "metadata": {
        "id": "view-in-github",
        "colab_type": "text"
      },
      "source": [
        "<a href=\"https://colab.research.google.com/github/alanmlewis/ProgrammingforChem/blob/main/Huckel_Theory/Huckel_Theory_Syntax_Solutions.ipynb\" target=\"_parent\"><img src=\"https://colab.research.google.com/assets/colab-badge.svg\" alt=\"Open In Colab\"/></a>"
      ]
    },
    {
      "cell_type": "markdown",
      "source": [
        "---\n",
        "# **PC LAB: Understanding $\\pi$-Conjugated Molecules with Hückel Theory**\n",
        "---\n",
        "\n",
        "This workshop will introduce the ideas of Hückel Theory, which is a way of calculating molecular orbitals. It will then give you the Python tools you need to perform Hückel Theory calculations, calculate trends in the energy of conjugated a::lkenes, and make predictions about the selectivity of organic reactions.\n",
        "\n",
        "## **Section A: What is Hückel Theory?**\n",
        "---\n",
        "\n",
        "Hückel Theory describes how $\\pi$-electrons behave in conjugated systems, like those shown below, and provides a simplified way of predicting the chemical properties of those molecules. It is a very simple *electronic structure theory*; you'll learn more about these theories later this year in the course. It is based on a number of assumptions:\n",
        "*   Electrons in $\\pi$ orbitals don't interact with electrons in $\\sigma$ orbitals.\n",
        "*   Molecular orbitals are built from a linear combination of atomic p orbitals.\n",
        "*   The system is defined by two parameters:\n",
        "    *  $\\alpha$, the energy of an electron in a p orbital.\n",
        "    *  $\\beta$, the interaction energy of two neighbouring p orbitals.\n",
        "*   Orbitals which aren't neighbours don't interact.\n",
        "\n",
        "![Benzene](https://drive.google.com/uc?id=1QnNmG6GaSz6j2b43j9u82Oxv_fZ8mB_v) ![Hexatriene](https://drive.google.com/uc?id=1I_RMYY3BlhPBOckaY4kQwrp1hXC661Kf)\n",
        "\n",
        "### **Mathematics of Hückel Theory**\n",
        "\n",
        "The behaviour of any quantum mechanical system is defined by a Hamiltonian. You have seen the Schr&ouml;dinger equation before, which tells us the allowed energies of a quantum mechanical system E:\n",
        "$$\n",
        "\\hat{H}\\psi = E\\psi\n",
        "$$\n",
        "Often the Hamiltonian is written as function, perhaps of the position of a particle. However, we can also write the Hamiltonian as a matrix and $\\psi$ as a vector:\n",
        "$$\n",
        "\\mathbf{H}\\psi_i = E_i\\psi_i \\\\\n",
        "$$\n",
        "$$\n",
        "\\mathbf{H} = \\left(\\array{h_{11} & h_{12} & h_{13} & h_{14} \\\\ h_{21} & h_{22} & h_{23} & h_{24} \\\\ h_{31} & h_{32} & h_{33} & h_{34} \\\\h_{41} & h_{42} & h_{43} & h_{44}} \\right); \\psi_i = \\left(\\array{c_1 \\\\ c_2 \\\\ c_3 \\\\ c_4} \\right) \\\\\n",
        "$$\n",
        "To understand a matrix, we have to know what *basis* it is written in. In Hückel theory, the *basis* consists of the atomic p orbital on each atom. That gives us a way to understand the numbers above: $c_1$ is the amount that the p orbital on atom number 1 contibutes to the molecular orbital $i$; the number $h_{12}$ is the interaction energy between the p orbital on atom 1 and the p orbital on atom 2.\n",
        "\n",
        "When faced with an equation like this one, the goal is to find the pairs of vectors $\\psi_i$ and numbers $E_i$ which satisfy the equation. This is done by a mathematical technique called diagonalisation. Doing this by hand is very difficult; computers are very good at it. We'll see how to use Python to solve these equations."
      ],
      "metadata": {
        "id": "NrvrP4nZpZ17"
      }
    },
    {
      "cell_type": "markdown",
      "source": [
        "## **Section B: Programming Background**\n",
        "---\n",
        "\n",
        "In order to use Hückel theory and the mathematics behind it, we first need to introduce some key programming concepts. The first of these is called an \"array\" - this is Python's way of storing vectors and matrices. These are defined using functions from a library called numpy. The code block below gives some examples of how we can make vectors and matrices using numpy. Click the \"play\" button to run the code and see what it produces."
      ],
      "metadata": {
        "id": "gTmjlF3bjkjT"
      }
    },
    {
      "cell_type": "code",
      "source": [
        "import numpy as np\n",
        "\n",
        "# This command creates a vector with 8 elements in it, and every element is the number one.\n",
        "vec = np.ones(8)\n",
        "print(vec)\n",
        "\n",
        "# This command creates a (5x2) matrix with every element equal to zero.\n",
        "matrix = np.zeros((5,2))\n",
        "print(matrix)\n",
        "\n",
        "# This command creates a (4x4) matrix filled with random numbers between zero and one.\n",
        "random_matrix = np.random.random((4,4))\n",
        "print(random_matrix)"
      ],
      "metadata": {
        "colab": {
          "base_uri": "https://localhost:8080/"
        },
        "id": "Y6vp4br2kIUZ",
        "outputId": "d787e549-5815-4534-f83b-07f78956a8dc"
      },
      "execution_count": null,
      "outputs": [
        {
          "output_type": "stream",
          "name": "stdout",
          "text": [
            "[1. 1. 1. 1. 1. 1. 1. 1.]\n",
            "[[0. 0.]\n",
            " [0. 0.]\n",
            " [0. 0.]\n",
            " [0. 0.]\n",
            " [0. 0.]]\n",
            "[[0.7560058  0.56238974 0.30361503 0.94312177]\n",
            " [0.75334107 0.47903667 0.51100083 0.07439832]\n",
            " [0.53828972 0.3713428  0.63673802 0.26686592]\n",
            " [0.99786241 0.39176454 0.72836437 0.28280496]]\n"
          ]
        }
      ]
    },
    {
      "cell_type": "markdown",
      "source": [
        "In Python, we sometimes need to get a specific number or numbers out of an array. To do this, we use square brackets to specify which number(s) we want. Note that Python starts counting from 0 instead of 1. That means we can get the first number from a vector with the code `vector[0]`. To access matrices, we need to give the row and the column index of the number we want; the number in the fourth row and second column of a matrix can be accessed with the code `matrix[3,1]`.\n",
        "\n",
        "**Exercise 1:** Write code in the box below which prints the element in the 3rd row of the 4th column of the random matrix we defined above."
      ],
      "metadata": {
        "id": "wNJPHUrYkIvz"
      }
    },
    {
      "cell_type": "code",
      "source": [
        "print(random_matrix[2,3])"
      ],
      "metadata": {
        "colab": {
          "base_uri": "https://localhost:8080/"
        },
        "id": "lOtxU0vxlxBL",
        "outputId": "bd627b6d-4509-47aa-f583-ad2df0d29fa9"
      },
      "execution_count": null,
      "outputs": [
        {
          "output_type": "stream",
          "name": "stdout",
          "text": [
            "0.2668659232683832\n"
          ]
        }
      ]
    },
    {
      "cell_type": "markdown",
      "source": [
        "The first $m$ entries of a vector can be accessed using code like this: `vector[:m]`. We can do something similar with matrices; `matrix[:m,2]` will return the first $m$ elements of column 3. If we want a whole column, we can just use `:` instead of any numbers. For example, `matrix[2,:]` refers to the whole of the third row of `matrix`.\n",
        "\n",
        "**Exercise 2:** Write code in the box below to first print every element in the second column of the random matrix, and then print the first three elements of the fouth row of the random matrix."
      ],
      "metadata": {
        "id": "sjEo0B7em6u4"
      }
    },
    {
      "cell_type": "code",
      "source": [
        "print(random_matrix[:,1])\n",
        "print(random_matrix[3,:3])"
      ],
      "metadata": {
        "colab": {
          "base_uri": "https://localhost:8080/"
        },
        "id": "_iao_0d0nuCy",
        "outputId": "042c7acb-2cf4-416d-a652-9597bf1c0c40"
      },
      "execution_count": null,
      "outputs": [
        {
          "output_type": "stream",
          "name": "stdout",
          "text": [
            "[0.56238974 0.47903667 0.3713428  0.39176454]\n",
            "[0.99786241 0.39176454 0.72836437]\n"
          ]
        }
      ]
    },
    {
      "cell_type": "markdown",
      "source": [
        "We can also change individual elements of a matrix or vector by setting them equal to a number, using the equals sign. Be careful though: if you don't specify which element of the matrix or vector you want to change, you will replace the whole matrix with a single number.\n",
        "\n",
        "**Exercise 3:** Set the sixth element of the variable `vec` equal to 99, and then print the whole vector. Then set the variable `matrix` equal to -1, and print the result. You should have replaced the matrix with a single number!"
      ],
      "metadata": {
        "id": "4U2MkbFLoPFN"
      }
    },
    {
      "cell_type": "code",
      "source": [
        "vec[5] = 99\n",
        "print(vec)\n",
        "matrix = -1\n",
        "print(matrix)"
      ],
      "metadata": {
        "colab": {
          "base_uri": "https://localhost:8080/"
        },
        "id": "FGs0426YpEaD",
        "outputId": "0e9a3dd3-7531-4482-d2ca-752e43535696"
      },
      "execution_count": null,
      "outputs": [
        {
          "output_type": "stream",
          "name": "stdout",
          "text": [
            "[ 1.  1.  1.  1.  1. 99.  1.  1.]\n",
            "-1\n"
          ]
        }
      ]
    },
    {
      "cell_type": "markdown",
      "source": [
        "Having introduced array, we're going to move onto something new: \"for loops\". If we want to repeat our code many times, maybe changing a small thing every time, we could make a lot of copies of the code. But there is a better way: using a `for` loop. We can use this to define a list of values, and then run a chunk of code multiple times, each time with a variable set to the next value in the list. Note that everything you want to repeat in the loop should be indented using spaces, and should be indented by the same amount. For example:"
      ],
      "metadata": {
        "id": "7PRQXLGDpKKm"
      }
    },
    {
      "cell_type": "code",
      "source": [
        "ns = [1,2,3]\n",
        "for n in ns:\n",
        "  print('At the moment the variable n is equal to:')\n",
        "  print(n)"
      ],
      "metadata": {
        "colab": {
          "base_uri": "https://localhost:8080/"
        },
        "id": "7CdcZCt3ppa9",
        "outputId": "7250d903-6df5-413d-89a0-40280a9a550d"
      },
      "execution_count": null,
      "outputs": [
        {
          "output_type": "stream",
          "name": "stdout",
          "text": [
            "At the moment the variable n is equal to:\n",
            "1\n",
            "At the moment the variable n is equal to:\n",
            "2\n",
            "At the moment the variable n is equal to:\n",
            "3\n"
          ]
        }
      ]
    },
    {
      "cell_type": "markdown",
      "source": [
        "**Exercise 4:** Write a loop which prints the name of every person sat in your row on a new line."
      ],
      "metadata": {
        "id": "QvcXB0lEp19k"
      }
    },
    {
      "cell_type": "code",
      "source": [
        "names = ['Alfred','Betty','Chris','Doreen']\n",
        "for name in names:\n",
        "  print(name)"
      ],
      "metadata": {
        "colab": {
          "base_uri": "https://localhost:8080/"
        },
        "id": "F37NRKegp2Pd",
        "outputId": "e0b2502e-e807-4388-9a75-c3c584842a9e"
      },
      "execution_count": null,
      "outputs": [
        {
          "output_type": "stream",
          "name": "stdout",
          "text": [
            "Alfred\n",
            "Betty\n",
            "Chris\n",
            "Doreen\n"
          ]
        }
      ]
    },
    {
      "cell_type": "markdown",
      "source": [
        "Sometime we want to collect the result of the calculation we do each time we go through a loop into a list. Python has a neat way to do that. We can define an empty list using `list_variable = []`, and then add a number to it using the command `list_variable.append(number_variable)`. For example, the code below creates a list of square numbers. (Note that the final print statement is \"outside\" of the loop, because it isn't indented, and so is only printed once)."
      ],
      "metadata": {
        "id": "tBalQzOiqsuO"
      }
    },
    {
      "cell_type": "code",
      "source": [
        "ns = [1,2,3,4,5]\n",
        "n_squared = []\n",
        "for n in ns:\n",
        "  n_squared.append(n**2)\n",
        "\n",
        "print(n_squared)"
      ],
      "metadata": {
        "colab": {
          "base_uri": "https://localhost:8080/"
        },
        "id": "7PXC5Ym8pndU",
        "outputId": "bded2bb7-7d02-42a8-e8f9-a94ad5e5b93b"
      },
      "execution_count": null,
      "outputs": [
        {
          "output_type": "stream",
          "name": "stdout",
          "text": [
            "[1, 4, 9, 16, 25]\n"
          ]
        }
      ]
    },
    {
      "cell_type": "markdown",
      "source": [
        "**Exercise 5:** Write a loop which calculates the square root of every even number up to 10, and stores the answers in a list. There is a numpy function called `np.sqrt(x)` which will return the square root of a number x.\n"
      ],
      "metadata": {
        "id": "FHkb0PB1q-rq"
      }
    },
    {
      "cell_type": "code",
      "source": [
        "ns = [2,4,6,8,10]\n",
        "n_roots = []\n",
        "for n in ns:\n",
        "  root = np.sqrt(n)\n",
        "  n_roots.append(root)\n",
        "\n",
        "print(n_roots)"
      ],
      "metadata": {
        "id": "UJF7h5sbqsab",
        "colab": {
          "base_uri": "https://localhost:8080/"
        },
        "outputId": "71844996-9120-4297-8248-1aa7e2e3c035"
      },
      "execution_count": null,
      "outputs": [
        {
          "output_type": "stream",
          "name": "stdout",
          "text": [
            "[1.4142135623730951, 2.0, 2.449489742783178, 2.8284271247461903, 3.1622776601683795]\n"
          ]
        }
      ]
    },
    {
      "cell_type": "markdown",
      "source": [
        "## **Section C: An Example of Hückel Theory in Action**\n",
        "---\n",
        "\n",
        "Now that we've covered the tools we need, let's apply Hückel Theory to 1,3-butadiene.\n",
        "\n",
        "![Butadiene](https://drive.google.com/uc?id=1D9YpzsfmZv-uj0WwrKoMRblJrpL40VKC)\n",
        "\n",
        "We can write down the Hückel Hamiltonian for this molecule using the assumptions we introduced before:\n",
        "*   Molecular orbitals are built from a linear combination of atomic p orbitals (i.e. the basis of our matrix is p orbitals).\n",
        "*   The system is defined by two parameters:\n",
        "    *  $\\alpha$, the energy of an electron in a p orbital.\n",
        "    *  $\\beta$, the interaction energy of two neighbouring p orbitals.\n",
        "*   Orbitals which aren't neighbours don't interact.\n",
        "$$\n",
        "\\\\\n",
        "\\mathbf{H} = \\left( \\array{\\alpha & \\beta & 0 & 0 \\\\ \\beta & \\alpha & \\beta & 0 \\\\ 0 & \\beta & \\alpha & \\beta \\\\ 0 & 0 & \\beta & \\alpha} \\right)\\\\\n",
        "$$\n",
        "\n",
        "Now we need to write some code which defines that Hamiltonian in Python, and diagonalise it to find the energies and molecular orbitals. The next code block includes a function which defines a Hückel Hamiltonian for any linear hydrocarbon. We'll come back and look at how it works later. For now, just click the \"play\" button to run the code, and then move on."
      ],
      "metadata": {
        "id": "OFawjjTjjchD"
      }
    },
    {
      "cell_type": "code",
      "source": [
        "import numpy as np\n",
        "import matplotlib.pyplot as plt\n",
        "\n",
        "def linear_Hamiltonian(n,alpha,beta):\n",
        "  '''\n",
        "  This function defines the Hückel Hamiltonian of a linear conjugated hydrocarbon\n",
        "  You don't need to change this function!\n",
        "\n",
        "  Arguments:\n",
        "      n: the number of carbon atoms in the molecule\n",
        "      alpha: the energy of a carbon p orbital\n",
        "      beta: the interaction energy between neighbouring carbon atoms\n",
        "\n",
        "  Retuns:\n",
        "      H: The Hückel Hamiltonian\n",
        "\n",
        "  '''\n",
        "\n",
        "  # This line defines an nxn Hamiltonian full of zeros\n",
        "  H = np.zeros((n,n))\n",
        "\n",
        "  # Loop over each row of the matrix\n",
        "  for i in range(n):\n",
        "    # Set the diagonal element of the Hamiltonian equal to alpha\n",
        "    H[i,i] = alpha\n",
        "    # Check if this carbon atom is the last atom\n",
        "    if i+1 == n:\n",
        "      # If it is, do nothing\n",
        "      pass\n",
        "    else:\n",
        "      # If it isn't, set the interaction energy between this atom and its next neighbour.\n",
        "      H[i,i+1] = beta\n",
        "\n",
        "    # Check if this carbon atom is the first atom\n",
        "    if i == 0:\n",
        "      # If it is, do nothing\n",
        "      pass\n",
        "    else:\n",
        "      # If it isn't, set the interaction energy between this atom and its peevious neighbour.\n",
        "      H[i,i-1] = beta\n",
        "\n",
        "  return H"
      ],
      "metadata": {
        "id": "qk7g74feo5sn"
      },
      "execution_count": null,
      "outputs": []
    },
    {
      "cell_type": "markdown",
      "source": [
        "Now let's define the Hückel Hamiltonian for 1,3-butadiene specifically. We define $\\alpha$, $\\beta$, and the number of carbons $n$, and pass them to the function we just defined. Then we use a Python function `np.linalg.eigh` from the `numpy` library (`np` for short) to diagonalise the matrix and get the energies and molecular orbitals."
      ],
      "metadata": {
        "id": "6cHTsmJ_pPX1"
      }
    },
    {
      "cell_type": "code",
      "execution_count": null,
      "metadata": {
        "id": "h5ZI_ZgwpXc7",
        "colab": {
          "base_uri": "https://localhost:8080/"
        },
        "outputId": "9faf295a-9132-4c24-c428-03f453b8761a"
      },
      "outputs": [
        {
          "output_type": "stream",
          "name": "stdout",
          "text": [
            "The Hamiltonian is defined as:\n",
            "[[-0.  -0.5  0.   0. ]\n",
            " [-0.5 -0.  -0.5  0. ]\n",
            " [ 0.  -0.5 -0.  -0.5]\n",
            " [ 0.   0.  -0.5 -0. ]]\n",
            "The molecular orital energies are:\n",
            "[-0.80901699 -0.30901699  0.30901699  0.80901699]\n"
          ]
        }
      ],
      "source": [
        "# Define our system\n",
        "alpha = -0.0\n",
        "beta = -0.5\n",
        "n = 4\n",
        "\n",
        "# Create the Hamiltonian for our system\n",
        "H = linear_Hamiltonian(n,alpha,beta)\n",
        "# Diagonalise the Hamiltonian and store the energies and molecular orbital coefficients\n",
        "energies, mos = np.linalg.eigh(H)\n",
        "\n",
        "print('The Hamiltonian is defined as:')\n",
        "print(H)\n",
        "print('The molecular orital energies are:')\n",
        "print(energies)"
      ]
    },
    {
      "cell_type": "markdown",
      "source": [
        "**Exercise 1:** Copy the code in the box above into the box below, and change the value of $\\beta$. How does this change the molecular orbital energies? What do you think the physical meaning of your change is? Does this match the change in molecular orbital energies you see?"
      ],
      "metadata": {
        "id": "rzBTdAz1pX5h"
      }
    },
    {
      "cell_type": "code",
      "source": [
        "# Define our system\n",
        "alpha = -0.0\n",
        "beta = -5.1\n",
        "n = 4\n",
        "\n",
        "# Create the Hamiltonian for our system\n",
        "H = linear_Hamiltonian(n,alpha,beta)\n",
        "# Diagonalise the Hamiltonian and store the energies and molecular orbital coefficients\n",
        "energies, mos = np.linalg.eigh(H)\n",
        "\n",
        "print('The Hamiltonian is defined as:')\n",
        "print(H)\n",
        "print('The molecular orital energies are:')\n",
        "print(energies)"
      ],
      "metadata": {
        "colab": {
          "base_uri": "https://localhost:8080/"
        },
        "id": "0jEkv7qAnwnX",
        "outputId": "3159761e-aab1-40e1-a53d-738b73279db5"
      },
      "execution_count": null,
      "outputs": [
        {
          "output_type": "stream",
          "name": "stdout",
          "text": [
            "The Hamiltonian is defined as:\n",
            "[[-0.  -5.1  0.   0. ]\n",
            " [-5.1 -0.  -5.1  0. ]\n",
            " [ 0.  -5.1 -0.  -5.1]\n",
            " [ 0.   0.  -5.1 -0. ]]\n",
            "The molecular orital energies are:\n",
            "[-8.25197334 -3.15197334  3.15197334  8.25197334]\n"
          ]
        }
      ]
    },
    {
      "cell_type": "markdown",
      "source": [
        "**Exercise 2:** There are $n$ total $\\pi$ electrons in a linear conjugated molecules with $n$ carbon atoms. Each molecular orbital can contain two electrons. Print the energies of the HOMO and LUMO of 1,3-butadiene."
      ],
      "metadata": {
        "id": "H9ByBPqwtwkl"
      }
    },
    {
      "cell_type": "code",
      "source": [
        "print(\"The HOMO energy is\")\n",
        "print(energies[n//2-1])\n",
        "print(\"The LUMO energy is\")\n",
        "print(energies[2])"
      ],
      "metadata": {
        "colab": {
          "base_uri": "https://localhost:8080/"
        },
        "id": "XUVrHfdpkEXC",
        "outputId": "adaec682-cc77-449b-b95f-b91a24f8edeb"
      },
      "execution_count": null,
      "outputs": [
        {
          "output_type": "stream",
          "name": "stdout",
          "text": [
            "The HOMO energy is\n",
            "-3.151973342624464\n",
            "The LUMO energy is\n",
            "3.1519733426244625\n"
          ]
        }
      ]
    },
    {
      "cell_type": "markdown",
      "source": [
        "The first excitation energy is approximately equal to the difference in energy between the HOMO and LUMO.\n",
        "\n",
        "**Exercise 3:** Define a new variable which is equal to the first excitation energy of 1,3-butadiene. Print the value of this variable."
      ],
      "metadata": {
        "id": "B__u8WqdM5iM"
      }
    },
    {
      "cell_type": "code",
      "source": [
        "first_ee = energies[n//2] - energies[n//2-1]\n",
        "print(f'The first excitation energy is {first_ee} eV.')"
      ],
      "metadata": {
        "colab": {
          "base_uri": "https://localhost:8080/"
        },
        "id": "Ppv1DglxNQk6",
        "outputId": "ea6f3b01-fc8e-463c-fc35-142a71e1dbc9"
      },
      "execution_count": null,
      "outputs": [
        {
          "output_type": "stream",
          "name": "stdout",
          "text": [
            "The first excitation energy is 6.303946685248926 eV.\n"
          ]
        }
      ]
    },
    {
      "cell_type": "markdown",
      "source": [
        "**Exercise 4:** Print the orbital energies of every occupied orbital in 1,3-butadiene. Try to write your code in such a way that the same code will also work for molecules with more atoms in as well. (Hint: the command `//` will divide and round down to an integer)"
      ],
      "metadata": {
        "id": "eJc-9Py1woA6"
      }
    },
    {
      "cell_type": "code",
      "source": [
        "print(energies[:n//2])"
      ],
      "metadata": {
        "id": "e5agNBD0vulG",
        "colab": {
          "base_uri": "https://localhost:8080/"
        },
        "outputId": "8a85e95a-6e29-48d6-bc90-4f2ba4a4e360"
      },
      "execution_count": null,
      "outputs": [
        {
          "output_type": "stream",
          "name": "stdout",
          "text": [
            "[-8.25197334 -3.15197334]\n"
          ]
        }
      ]
    },
    {
      "cell_type": "markdown",
      "source": [
        "**Exercise 5:** Use the function `np.sum` to calculate the total $\\pi$-electron energy of 1,3-butadiene, and print it out. If you're not sure how to use this function, I recommend having a guess first! If that doesn't work, try looking at the [documentation](https://www.geeksforgeeks.org/numpy-sum-in-python/), or this [this helpful website](https://www.programiz.com/python-programming/numpy/methods/sum). Your answer should be a negative number."
      ],
      "metadata": {
        "id": "7Y_WltUeJudp"
      }
    },
    {
      "cell_type": "code",
      "source": [
        "total_e = np.sum(energies[:n//2])*2\n",
        "print(f'The total pi-electron energy is {total_e} eV.')"
      ],
      "metadata": {
        "colab": {
          "base_uri": "https://localhost:8080/"
        },
        "id": "QXf7JpfSJpoQ",
        "outputId": "571062ae-5040-405c-c506-32567ee6aa50"
      },
      "execution_count": null,
      "outputs": [
        {
          "output_type": "stream",
          "name": "stdout",
          "text": [
            "The total pi-electron energy is -22.80789337049785 eV.\n"
          ]
        }
      ]
    },
    {
      "cell_type": "markdown",
      "source": [
        "**Optional Exercise:** The [precisely calculated value](https://pubs.acs.org/doi/pdf/10.1021/ct300486d?ref=article_openPDF) for the first excitation energy of 1,3-butadiene is 6.3 eV. We can use this to estimate the value of $\\beta$. Re-run the code you wrote for Exercises 1-3 with different values of $\\beta$ until the first excitation energy you calculate in exercise 3 is similar to the experimental value."
      ],
      "metadata": {
        "id": "Sc-YLT2KNXpG"
      }
    },
    {
      "cell_type": "markdown",
      "source": [
        "## **Section D: Molecular Orbitals and Predicting Reaction Selectivity**\n",
        "---\n",
        "\n",
        "So far we've just thought about molecular energies. What about the molecular orbitals? The information about the molecular orbitals is stored in the variable `mos`, which is a 2D matrix. The first column of `mos` contains the coefficients of the lowest energy molecular orbital, and so on.\n",
        "\n",
        "![Butadiene](https://drive.google.com/uc?id=1D9YpzsfmZv-uj0WwrKoMRblJrpL40VKC)\n",
        "\n",
        "\n",
        "**Exercise 1:** Print the coefficients of the lowest energy molecular orbital of 1,3-butadiene."
      ],
      "metadata": {
        "id": "BS-WEOG65jId"
      }
    },
    {
      "cell_type": "code",
      "source": [
        "print(mos[:,0])"
      ],
      "metadata": {
        "colab": {
          "base_uri": "https://localhost:8080/"
        },
        "id": "ChU0RehwJTgM",
        "outputId": "596b904c-c1cb-4ea9-bbd4-435e22d85f35"
      },
      "execution_count": null,
      "outputs": [
        {
          "output_type": "stream",
          "name": "stdout",
          "text": [
            "[-0.37174803 -0.60150096 -0.60150096 -0.37174803]\n"
          ]
        }
      ]
    },
    {
      "cell_type": "markdown",
      "source": [
        "**Exercise 2:** Remember that these coefficients tell us how much the p orbital on each atom contributes to the overall molecular orbital. Use these coefficients to sketch the lowest energy molecular orbital of 1,3-butadiene.\n",
        "\n",
        "**Exercise 3:** Print the coefficients of the highest energy molecular orbital of 1,3-butadiene, and sketch what it looks like. Does this match your chemical intuition?"
      ],
      "metadata": {
        "id": "-GftGhLXJUFx"
      }
    },
    {
      "cell_type": "code",
      "source": [
        "print(mos[:,-1])"
      ],
      "metadata": {
        "colab": {
          "base_uri": "https://localhost:8080/"
        },
        "id": "XVh_6pEeKAbq",
        "outputId": "b5fc7c94-a5f9-4ae8-8f29-ad975ab2f46f"
      },
      "execution_count": null,
      "outputs": [
        {
          "output_type": "stream",
          "name": "stdout",
          "text": [
            "[-0.37174803  0.60150096 -0.60150096  0.37174803]\n"
          ]
        }
      ]
    },
    {
      "cell_type": "markdown",
      "source": [
        "We can use Hückel theory to do a bit of organic chemistry. Think about the reaction of 1,3-butadiene with an electrophile: the electrophile can either attack a primary or secondary carbon. We can work out which is more likely by considering the shape of the molecular orbital which will be attacked by an electrophile.\n",
        "\n",
        "**Exercise 4:** Print the cofficients of the molecular orbital of 1,3-butadiene which will be attacked by an electrophile. Do these coefficients tell us which atom the electrophile is more likely to attack?"
      ],
      "metadata": {
        "id": "qhDqhZv5HP7P"
      }
    },
    {
      "cell_type": "code",
      "source": [
        "print(mos[:,1])"
      ],
      "metadata": {
        "colab": {
          "base_uri": "https://localhost:8080/"
        },
        "id": "-bUC4ehXK-hC",
        "outputId": "bef3b772-43ed-449e-897a-ac716acb0184"
      },
      "execution_count": null,
      "outputs": [
        {
          "output_type": "stream",
          "name": "stdout",
          "text": [
            "[ 0.60150096  0.37174803 -0.37174803 -0.60150096]\n"
          ]
        }
      ]
    },
    {
      "cell_type": "markdown",
      "source": [
        "## **Section E: Finding Trends**\n",
        "---\n",
        "\n",
        "Now we've calculated some properties of 1,3-butadiene, let's think about some longer conjugated molecules. To do that we'll need to know a bit more about how the function we are using to build the Hamiltonian works. The code below will give some information:"
      ],
      "metadata": {
        "id": "hQhOFny-RmmS"
      }
    },
    {
      "cell_type": "code",
      "source": [
        "print(linear_Hamiltonian.__doc__)"
      ],
      "metadata": {
        "colab": {
          "base_uri": "https://localhost:8080/"
        },
        "id": "ZflqZjZEOrDJ",
        "outputId": "161a57fb-4d3d-48f4-d516-a67a3a3f17de"
      },
      "execution_count": null,
      "outputs": [
        {
          "output_type": "stream",
          "name": "stdout",
          "text": [
            "\n",
            "  This function defines the Hückel Hamiltonian of a linear conjugated hydrocarbon\n",
            "  You don't need to change this function!\n",
            "\n",
            "  Arguments:\n",
            "      n: the number of carbon atoms in the molecule\n",
            "      alpha: the energy of a carbon p orbital\n",
            "      beta: the interaction energy between neighbouring carbon atoms\n",
            "\n",
            "  Retuns:\n",
            "      H: The Hückel Hamiltonian\n",
            "\n",
            "  \n"
          ]
        }
      ]
    },
    {
      "cell_type": "markdown",
      "source": [
        "![Hexatriene](https://drive.google.com/uc?id=1I_RMYY3BlhPBOckaY4kQwrp1hXC661Kf)\n",
        "\n",
        "**Exercise 1:** Copy your code from Exercise 1 of Section C into the code block below. Using the information above about the function `linear_Hamiltonian`, modify the code print the Hamiltonian and molecular orbital energies for 1,3,5-hexatriene."
      ],
      "metadata": {
        "id": "kDA0mjAxS2GG"
      }
    },
    {
      "cell_type": "code",
      "source": [
        "alpha = -0.0\n",
        "beta = -5.1\n",
        "n = 6\n",
        "H = linear_Hamiltonian(n,alpha,beta)\n",
        "energies, mos = np.linalg.eigh(H)\n",
        "print('The Hamiltonian is defined as:')\n",
        "print(H)\n",
        "print('The molecular orital energies are:')\n",
        "print(energies)"
      ],
      "metadata": {
        "colab": {
          "base_uri": "https://localhost:8080/"
        },
        "id": "Qut3WKTcSoYb",
        "outputId": "5932e1cf-019b-46c2-f07f-ab593aee0539"
      },
      "execution_count": null,
      "outputs": [
        {
          "output_type": "stream",
          "name": "stdout",
          "text": [
            "The Hamiltonian is defined as:\n",
            "[[-0.  -5.1  0.   0.   0.   0. ]\n",
            " [-5.1 -0.  -5.1  0.   0.   0. ]\n",
            " [ 0.  -5.1 -0.  -5.1  0.   0. ]\n",
            " [ 0.   0.  -5.1 -0.  -5.1  0. ]\n",
            " [ 0.   0.   0.  -5.1 -0.  -5.1]\n",
            " [ 0.   0.   0.   0.  -5.1 -0. ]]\n",
            "The molecular orital energies are:\n",
            "[-9.18988245 -6.35959598 -2.26971353  2.26971353  6.35959598  9.18988245]\n"
          ]
        }
      ]
    },
    {
      "cell_type": "markdown",
      "source": [
        "Let's calculate the total $\\pi$-electron energy of a lot of different sized-molecules."
      ],
      "metadata": {
        "id": "3CGjKohiTcEN"
      }
    },
    {
      "cell_type": "markdown",
      "source": [
        "**Exercise 2:** To begin with, write some code in the code box below which will print the molecular orbital energies for linear conjugated hydrocarbons with 2, 4, 6, 8, and 10 carbon atoms. You should use the same values of $\\alpha$ and $\\beta$ for every molecule.\n",
        "\n",
        "**Exercise 3:** Once you have done Exercise 2, use your answer to Exercise 5 in section C to print the total $\\pi$-electron energy for each molecule instead of the molecular orbital energies."
      ],
      "metadata": {
        "id": "Q4NINBvlo9dT"
      }
    },
    {
      "cell_type": "code",
      "source": [
        "ns = [2,4,6,8,10]\n",
        "for n in ns:\n",
        "  # Create the Hamiltonian for our system\n",
        "  H = linear_Hamiltonian(n,alpha,beta)\n",
        "  # Diagonalise the Hamiltonian and store the energies and molecular orbital coefficients\n",
        "  energies, mos = np.linalg.eigh(H)\n",
        "  print(n, np.sum(energies[:n//2]))"
      ],
      "metadata": {
        "colab": {
          "base_uri": "https://localhost:8080/"
        },
        "id": "mX2VSU3KoK2w",
        "outputId": "90fa59aa-e3cd-4228-90bd-ff21674aad45"
      },
      "execution_count": null,
      "outputs": [
        {
          "output_type": "stream",
          "name": "stdout",
          "text": [
            "2 -5.1\n",
            "4 -11.403946685248926\n",
            "6 -17.819191957918164\n",
            "8 -24.26972946403253\n",
            "10 -30.73603833499458\n"
          ]
        }
      ]
    },
    {
      "cell_type": "markdown",
      "source": [
        "It would be nice to plot these numbers on a graph!"
      ],
      "metadata": {
        "id": "UEkKeKooqkZt"
      }
    },
    {
      "cell_type": "markdown",
      "source": [
        "**Exercise 4:** Copy the code from your answer to Exercise 3 from this section, and instead of printing the total $\\pi$-electron energy, create a list variable which contains the total $\\pi$-electron energy for each molecule. After the loop has finished, print the list of total energies."
      ],
      "metadata": {
        "id": "_MT00ls5r3U8"
      }
    },
    {
      "cell_type": "code",
      "source": [
        "ns = [2,4,6,8,10]\n",
        "total_energies = []\n",
        "for n in ns:\n",
        "  # Create the Hamiltonian for our system\n",
        "  H = linear_Hamiltonian(n,alpha,beta)\n",
        "  # Diagonalise the Hamiltonian and store the energies and molecular orbital coefficients\n",
        "  energies, mos = np.linalg.eigh(H)\n",
        "  total_energies.append(np.sum(energies[:n//2]))\n",
        "print(total_energies)"
      ],
      "metadata": {
        "colab": {
          "base_uri": "https://localhost:8080/"
        },
        "id": "p1UyH5qYrov1",
        "outputId": "337bdc84-daf5-49dd-be30-d3919af86170"
      },
      "execution_count": null,
      "outputs": [
        {
          "output_type": "stream",
          "name": "stdout",
          "text": [
            "[-5.1, -11.403946685248926, -17.819191957918164, -24.26972946403253, -30.73603833499458]\n"
          ]
        }
      ]
    },
    {
      "cell_type": "markdown",
      "source": [
        "**Exercise 5:** The code `plt.scatter(X,Y)` will create a scatter graph, using the first argument as the x-values and the second argument as the y-values on the graph. Use this code, replacing the variable names `X` and `Y` with the variables you are using, to make a plot of length of molecule against total energy. Use the command `plt.show()` to display the graph. What do you notice about the values?\n",
        "\n"
      ],
      "metadata": {
        "id": "IZwm4hTasxm7"
      }
    },
    {
      "cell_type": "code",
      "source": [
        "plt.scatter(ns,total_energies)\n",
        "plt.show()"
      ],
      "metadata": {
        "colab": {
          "base_uri": "https://localhost:8080/",
          "height": 430
        },
        "id": "po9frlFQspcv",
        "outputId": "72d0b421-aad6-422f-8093-c8106a7e68d3"
      },
      "execution_count": null,
      "outputs": [
        {
          "output_type": "display_data",
          "data": {
            "text/plain": [
              "<Figure size 640x480 with 1 Axes>"
            ],
            "image/png": "[encoded data removed]"
          },
          "metadata": {}
        }
      ]
    },
    {
      "cell_type": "markdown",
      "source": [
        "**Exercise 6:** Now let's create a similar plot for the HOMO-LUMO energy gap. Copy your code from your answers to Exercises 5 and 6, and modify it so that instead of storing the total $\\pi$-electron energy of each molecule, you are storing the HOMO-LUMO energy gap. Then plot the HOMO-LUMO gap against the length of the molecule on a graph. Is the trend the same as for the total energies?"
      ],
      "metadata": {
        "id": "w7T-Eotetrxt"
      }
    },
    {
      "cell_type": "code",
      "source": [
        "ns = [2,4,6,8,10]\n",
        "gaps = []\n",
        "for n in ns:\n",
        "  H = linear_Hamiltonian(n,alpha,beta)\n",
        "  energies, mos = np.linalg.eigh(H)\n",
        "  gaps.append(energies[n//2] - energies[n//2-1])\n",
        "print(gaps)\n",
        "plt.scatter(ns,gaps)\n",
        "plt.show()"
      ],
      "metadata": {
        "colab": {
          "base_uri": "https://localhost:8080/",
          "height": 447
        },
        "id": "6se_zW23teVH",
        "outputId": "768d10b7-e2ed-4530-aaf4-772271e3f410"
      },
      "execution_count": null,
      "outputs": [
        {
          "output_type": "stream",
          "name": "stdout",
          "text": [
            "[10.2, 6.303946685248926, 4.539427052708813, 3.542422824405377, 2.9032227007750167]\n"
          ]
        },
        {
          "output_type": "display_data",
          "data": {
            "text/plain": [
              "<Figure size 640x480 with 1 Axes>"
            ],
            "image/png": "[encoded data removed]"
          },
          "metadata": {}
        }
      ]
    },
    {
      "cell_type": "markdown",
      "source": [
        "**Optional Exercise:** Make your graphs look prettier! You can add axis labels and a title using the commands below, and you can find out how to change the colour, shape and size of the points by [reading the documentation for `plt.scatter`](https://matplotlib.org/stable/api/_as_gen/matplotlib.pyplot.scatter.html).\n",
        "\n",
        "```\n",
        "plt.xlabel('X Axis')\n",
        "plt.ylabel('Y Axis')\n",
        "plt.title('Title')\n",
        "```"
      ],
      "metadata": {
        "id": "mzufUGGFuoVM"
      }
    },
    {
      "cell_type": "markdown",
      "source": [
        "## **Section F: Cyclic Molecules**\n",
        "---\n",
        "\n",
        "So far we've just thought about linear conjugated molecules. There are some very important cyclic conjugated molecules, such as benzene; Hückel Theory can describe those as well! Let's see how the results compare.\n",
        "\n",
        "Before we do any coding, we need to understand how Hückel theory is different for cyclic molecules. Remember, we started off looking at 1,3-butadiene and calculated the Hamiltonian for this molecules using the following rules:\n",
        "*   Molecular orbitals are built from a linear combination of atomic p orbitals (i.e. the basis of our matrix is p orbitals).\n",
        "*   The system is defined by two parameters:\n",
        "    *  $\\alpha$, the energy of an electron in a p orbital.\n",
        "    *  $\\beta$, the interaction energy of two neighbouring p orbitals.\n",
        "*   Orbitals which aren't neighbours don't interact.\n",
        "\n",
        "![Butadiene](https://drive.google.com/uc?id=1D9YpzsfmZv-uj0WwrKoMRblJrpL40VKC)\n",
        "\n",
        "Applying these rules gives us the following Hamiltonian.\n",
        "$$\n",
        "\\\\\n",
        "\\mathbf{H}_{\\textrm{butadiene}} = \\left( \\array{\\alpha & \\beta & 0 & 0 \\\\ \\beta & \\alpha & \\beta & 0 \\\\ 0 & \\beta & \\alpha & \\beta \\\\ 0 & 0 & \\beta & \\alpha} \\right)\\\\\n",
        "$$\n",
        "**Exercise 1:** How will the Hamiltonian for cyclobutadiene be different to $\\mathbf{H}_{\\textrm{butadiene}}$? Work through the rules above and write down on paper or a tablet the Hückel Hamiltonian for cyclobutadiene.\n",
        "\n",
        "![Butadiene](https://drive.google.com/uc?id=1j8sUf5OMoWJsRgnXYS20tUlUItGgXv0S)\n",
        "\n",
        "$$\n",
        "\\\\\n",
        "\\mathbf{H}_{\\textrm{butadiene}} = \\left( \\array{\\alpha & \\beta & 0 & \\beta \\\\ \\beta & \\alpha & \\beta & 0 \\\\ 0 & \\beta & \\alpha & \\beta \\\\ \\beta & 0 & \\beta & \\alpha} \\right)\\\\\n",
        "$$\n",
        "\n",
        "**Exercise 2:** Once you've worked out what the Hamiltonian should look like, modify the function below to make it produce the correct Hamiltonian. In this code, the Hamiltonian is stored in the variable `H`, which is an $n\\times n$ matrix. (Hint: If you want to select the last row or column of the matrix, you can use `-1` as the number of the row or column.)\n",
        "\n",
        "This code might look hard to understand to start with, but there are helpful comments which explain what each line does. Read through the code carefully before you try to make changes, but don't be scared to try something and see what happens!"
      ],
      "metadata": {
        "id": "7R3S7-ycwOk_"
      }
    },
    {
      "cell_type": "code",
      "source": [
        "def cyclic_Hamiltonian(n,alpha,beta):\n",
        "  '''\n",
        "  This function defines the Hückel Hamiltonian of a linear conjugated hydrocarbon\n",
        "  You don't need to change this function!\n",
        "\n",
        "  Arguments:\n",
        "      n: the number of carbon atoms in the molecule\n",
        "      alpha: the energy of a carbon p orbital\n",
        "      beta: the interaction energy between neighbouring carbon atoms\n",
        "\n",
        "  Retuns:\n",
        "      H: The Hückel Hamiltonian\n",
        "\n",
        "  '''\n",
        "\n",
        "  # This line defines an nxn Hamiltonian full of zeros\n",
        "  H = np.zeros((n,n))\n",
        "\n",
        "  # Loop over each row of the matrix\n",
        "  for i in range(n):\n",
        "    # Set the diagonal element of the Hamiltonian equal to alpha\n",
        "    H[i,i] = alpha\n",
        "    # Check if this carbon atom is the last atom\n",
        "    if i+1 == n:\n",
        "      # If it is, do nothing\n",
        "      H[i,0] = beta\n",
        "    else:\n",
        "      # If it isn't, set the interaction energy between this atom and its next neighbour.\n",
        "      H[i,i+1] = beta\n",
        "\n",
        "    # Check if this carbon atom is the first atom\n",
        "    if i == 0:\n",
        "      # If it is, do nothing\n",
        "      H[i,-1] = beta\n",
        "    else:\n",
        "      # If it isn't, set the interaction energy between this atom and its peevious neighbour.\n",
        "      H[i,i-1] = beta\n",
        "\n",
        "  return H\n",
        "\n",
        "print(cyclic_Hamiltonian(4,alpha,beta))"
      ],
      "metadata": {
        "colab": {
          "base_uri": "https://localhost:8080/"
        },
        "id": "ce4elueCyl-5",
        "outputId": "a1ffcb4b-7354-45f9-ea0f-9e372757f405"
      },
      "execution_count": null,
      "outputs": [
        {
          "output_type": "stream",
          "name": "stdout",
          "text": [
            "[[-0.  -5.1  0.  -5.1]\n",
            " [-5.1 -0.  -5.1  0. ]\n",
            " [ 0.  -5.1 -0.  -5.1]\n",
            " [-5.1  0.  -5.1 -0. ]]\n"
          ]
        }
      ]
    },
    {
      "cell_type": "markdown",
      "source": [
        "**Exercise 3:** Copy the code which was your answer to Exercise 4 in Section E - this was the code to calculate the total $\\pi$-electron energy of linear molecules. Modify it so that it calculates the total $\\pi$-electron energy of cyclic molecules instead. **Make sure you change the name of the variable you use to store the total energies to something new.**"
      ],
      "metadata": {
        "id": "OcGovYO-0oLI"
      }
    },
    {
      "cell_type": "code",
      "source": [
        "ns = [2,4,6,8,10]\n",
        "total_energies_cyclic = []\n",
        "for n in ns:\n",
        "  H = cyclic_Hamiltonian(n,alpha,beta)\n",
        "  energies, mos = np.linalg.eigh(H)\n",
        "  total_energies_cyclic.append(np.sum(energies[:n//2]))\n",
        "print(total_energies_cyclic)"
      ],
      "metadata": {
        "colab": {
          "base_uri": "https://localhost:8080/"
        },
        "id": "WIVDrrA3y6pA",
        "outputId": "94eeb9af-a5d3-42b5-d98c-1b9eb7526bd3"
      },
      "execution_count": null,
      "outputs": [
        {
          "output_type": "stream",
          "name": "stdout",
          "text": [
            "[-5.1, -10.2, -20.4, -24.624978336205572, -33.007893370497854]\n"
          ]
        }
      ]
    },
    {
      "cell_type": "markdown",
      "source": [
        "**Exercise 4:** We can plot the energies of the linear and cyclic conjugated hydrocarbons on the same graph. To do this, use two `plot.scatter(X,Y)` functions before writing `plt.show()`, one plotting the total $\\pi$-electron energy of the linear molecules, and the other plotting the total $\\pi$-electron energy of the cyclic molecules.\n",
        "\n",
        "To make it a bit clearer what's happening on the graph, we can add a label to each dataset by adding an extra argument `label=\"data\"` after `X` and `Y` when we use the function `plt.scatter`. In order to show these lables on the graph, we need to use the command `plt.legend()`."
      ],
      "metadata": {
        "id": "1efkZrK_2wBe"
      }
    },
    {
      "cell_type": "code",
      "source": [
        "plt.scatter(ns,total_energies_cyclic,label='cyclic')\n",
        "plt.scatter(ns,total_energies,label='linear')\n",
        "plt.legend()\n",
        "plt.show()"
      ],
      "metadata": {
        "colab": {
          "base_uri": "https://localhost:8080/",
          "height": 430
        },
        "id": "3UBIQFe01Yn-",
        "outputId": "50035b9b-e990-4108-b208-60d824fd0c96"
      },
      "execution_count": null,
      "outputs": [
        {
          "output_type": "display_data",
          "data": {
            "text/plain": [
              "<Figure size 640x480 with 1 Axes>"
            ],
            "image/png": "[encoded data removed]"
          },
          "metadata": {}
        }
      ]
    },
    {
      "cell_type": "markdown",
      "source": [
        "Can you use your chemistry knowledge to explain this graph?\n",
        "\n",
        "**Optional Exercise:** Make your graphs look prettier! You can add axis labels and a title, using the commands below, and you can find out how to change the colour, shape and size of the points by [reading the documentation for `plt.scatter`](https://matplotlib.org/stable/api/_as_gen/matplotlib.pyplot.scatter.html).\n",
        "\n",
        "```\n",
        "plt.xlabel('X Axis')\n",
        "plt.ylabel('Y Axis')\n",
        "plt.title('Title')\n",
        "```\n",
        "\n",
        "# Please return to the survey you began at the start of the workshop and complete it. Thank you very much!"
      ],
      "metadata": {
        "id": "b9CrmWg54dHT"
      }
    }
  ]
}